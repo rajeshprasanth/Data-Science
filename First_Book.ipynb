{
 "cells": [
  {
   "cell_type": "markdown",
   "id": "6ba6fe27-8c45-4135-b474-03b05cdd66d8",
   "metadata": {},
   "source": [
    "# My Jupyter Notebook on IBM Watson Studio"
   ]
  },
  {
   "cell_type": "markdown",
   "id": "ea1e0e4d-1bf2-43ee-9676-ce2cdd6e672c",
   "metadata": {},
   "source": [
    "**RAJESH PRASHANTH A**\n",
    "<br>\n",
    "System Administrator/IBM"
   ]
  },
  {
   "cell_type": "markdown",
   "id": "e593fbf0-b637-414e-a470-76898a896761",
   "metadata": {},
   "source": [
    "*I wish to explore data science with application to materials science and simulation. I am interested in modelling materials for a specific application with aid of data science and machine learning.*"
   ]
  },
  {
   "cell_type": "markdown",
   "id": "35dc622d-a03c-4363-ae56-353ffc865494",
   "metadata": {},
   "source": [
    "### The below piece of code prints 50 random number ranging from 1 to 100."
   ]
  },
  {
   "cell_type": "code",
   "execution_count": 18,
   "id": "6adfc5a0-32e6-439b-a127-c83ba014a03d",
   "metadata": {
    "tags": []
   },
   "outputs": [
    {
     "name": "stdout",
     "output_type": "stream",
     "text": [
      "[88, 13, 68, 11, 78, 56, 24, 82, 95, 59, 89, 56, 51, 51, 18, 65, 88, 16, 84, 71, 44, 29, 26, 18, 81, 22, 22, 56, 74, 92, 65, 70, 13, 71, 16, 75, 52, 76, 87, 9, 94, 72, 42, 45, 65, 5, 1, 60, 56, 59]\n"
     ]
    }
   ],
   "source": [
    "import random\n",
    "ranlist = []\n",
    "for i in range(0,50):\n",
    "    n = random.randint(1,100)\n",
    "    ranlist.append(n)\n",
    "print(ranlist)"
   ]
  },
  {
   "cell_type": "markdown",
   "id": "15e99310-a94e-4e69-bec1-fb481a16c239",
   "metadata": {},
   "source": [
    "***\n",
    "This is an example for horizontal line\n",
    "***"
   ]
  },
  {
   "cell_type": "markdown",
   "id": "f2448d88-6a7f-4c8a-b24f-1ba723eaddf4",
   "metadata": {},
   "source": [
    "### Example for bullet list\n",
    "\n",
    "- list 1\n",
    "- list 2\n",
    "- list 3"
   ]
  },
  {
   "cell_type": "markdown",
   "id": "36c6aa8f-9d91-49a3-aea2-1bccbb029ee9",
   "metadata": {},
   "source": [
    "### Example for Number list\n",
    "\n",
    "1. list 1\n",
    "2. list 2\n",
    "3. list 3"
   ]
  },
  {
   "cell_type": "markdown",
   "id": "f736de94-f004-4511-8b28-d91d2a37f1dd",
   "metadata": {
    "tags": []
   },
   "source": [
    "### Example for url\n",
    "<a href=\"http://google.com\"> google </a>."
   ]
  },
  {
   "cell_type": "code",
   "execution_count": null,
   "id": "a183acb3-34d9-4254-aeac-b1ca21117817",
   "metadata": {},
   "outputs": [],
   "source": []
  },
  {
   "cell_type": "code",
   "execution_count": null,
   "id": "ff21d0ac-7e84-4748-abc9-ce042a86f667",
   "metadata": {},
   "outputs": [],
   "source": []
  }
 ],
 "metadata": {
  "kernelspec": {
   "display_name": "Python 3",
   "language": "python",
   "name": "python3"
  },
  "language_info": {
   "codemirror_mode": {
    "name": "ipython",
    "version": 3
   },
   "file_extension": ".py",
   "mimetype": "text/x-python",
   "name": "python",
   "nbconvert_exporter": "python",
   "pygments_lexer": "ipython3",
   "version": "3.6.8"
  }
 },
 "nbformat": 4,
 "nbformat_minor": 5
}
